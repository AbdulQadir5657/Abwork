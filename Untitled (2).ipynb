{
 "cells": [
  {
   "cell_type": "code",
   "execution_count": 2,
   "id": "d503b2a3-eae2-41d9-869a-2b097e125a30",
   "metadata": {},
   "outputs": [
    {
     "name": "stdout",
     "output_type": "stream",
     "text": [
      "there is no one is here\n"
     ]
    }
   ],
   "source": [
    "try:\n",
    "    print(x)\n",
    "except:\n",
    "    print(\"there is no one is here\")"
   ]
  },
  {
   "cell_type": "code",
   "execution_count": 3,
   "id": "7be1bee6-c128-407c-8daa-3d6efa4e5149",
   "metadata": {},
   "outputs": [
    {
     "name": "stdout",
     "output_type": "stream",
     "text": [
      "0\n",
      "no one\n"
     ]
    }
   ],
   "source": [
    "try:\n",
    "    x = 0\n",
    "    print(x)\n",
    "except:\n",
    "    print(\"there is no one is here\")\n",
    "else:\n",
    "    print(\"no one\")"
   ]
  },
  {
   "cell_type": "code",
   "execution_count": 4,
   "id": "a52dd1eb-5ca6-44dd-ad3b-ed5df6602e0d",
   "metadata": {},
   "outputs": [
    {
     "name": "stdout",
     "output_type": "stream",
     "text": [
      "0\n",
      "try and except is executive\n"
     ]
    }
   ],
   "source": [
    "try:\n",
    "    x = 0\n",
    "    print(x)\n",
    "except:\n",
    "    print(\"there is no one is here\")\n",
    "finally:\n",
    "    print(\"try and except is executive\")"
   ]
  },
  {
   "cell_type": "code",
   "execution_count": 5,
   "id": "2dd6e879-6f18-40f3-8d42-8aa662aeecfa",
   "metadata": {},
   "outputs": [
    {
     "ename": "Exception",
     "evalue": "there is a issue....X is below 20",
     "output_type": "error",
     "traceback": [
      "\u001b[0;31m---------------------------------------------------------------------------\u001b[0m",
      "\u001b[0;31mException\u001b[0m                                 Traceback (most recent call last)",
      "Cell \u001b[0;32mIn [5], line 3\u001b[0m\n\u001b[1;32m      1\u001b[0m X \u001b[38;5;241m=\u001b[39m \u001b[38;5;241m10\u001b[39m\n\u001b[1;32m      2\u001b[0m \u001b[38;5;28;01mif\u001b[39;00m x \u001b[38;5;241m<\u001b[39m \u001b[38;5;241m20\u001b[39m:\n\u001b[0;32m----> 3\u001b[0m     \u001b[38;5;28;01mraise\u001b[39;00m \u001b[38;5;167;01mException\u001b[39;00m(\u001b[38;5;124m\"\u001b[39m\u001b[38;5;124mthere is a issue....X is below 20\u001b[39m\u001b[38;5;124m\"\u001b[39m)\n",
      "\u001b[0;31mException\u001b[0m: there is a issue....X is below 20"
     ]
    }
   ],
   "source": [
    "X = 10\n",
    "if x < 20:\n",
    "    raise Exception(\"there is a issue....X is below 20\") "
   ]
  },
  {
   "cell_type": "code",
   "execution_count": 12,
   "id": "2d36b467-0aaa-409c-a33c-dd7311299fa4",
   "metadata": {},
   "outputs": [
    {
     "name": "stdin",
     "output_type": "stream",
     "text": [
      "Enter num1:  0\n",
      "Enter num2:  2\n"
     ]
    },
    {
     "name": "stdout",
     "output_type": "stream",
     "text": [
      "Results 0.0\n"
     ]
    }
   ],
   "source": [
    "try:\n",
    "    n = int(input(\"Enter num1: \"))\n",
    "    d = int(input(\"Enter num2: \"))\n",
    "    \n",
    "    result = n / d\n",
    "    print(\"Results\", result)\n",
    "    \n",
    "except ZeroDivionError:\n",
    "    print(\"You have diivided the number by Zero\")\n",
    "\n",
    "except ValueError:\n",
    "    print(\"Its integer but you eneter float\")\n",
    "    "
   ]
  },
  {
   "cell_type": "code",
   "execution_count": null,
   "id": "cc1b205f-0f83-4899-bcb5-8bbd41a40b34",
   "metadata": {},
   "outputs": [],
   "source": [
    "try:\n",
    "    n = int(input(\"Enter num1: \"))\n",
    "    d = int(input(\"Enter num2: \"))\n",
    "    \n",
    "    result = n / d\n",
    "    print(\"Results\", result)\n",
    "    \n",
    "except ZeroDivionError:\n",
    "    print(\"You have diivided the number by Zero\")\n",
    "\n",
    "except ValueError:\n",
    "    print(\"Its integer but you eneter float\")\n",
    "    "
   ]
  },
  {
   "cell_type": "code",
   "execution_count": 15,
   "id": "b4e87bfb-115b-49d4-8fa3-18776d5156c4",
   "metadata": {},
   "outputs": [
    {
     "name": "stdout",
     "output_type": "stream",
     "text": [
      "wrong Index\n"
     ]
    }
   ],
   "source": [
    "try:\n",
    "    list1 = [11, 12, 13, 14]\n",
    "    print(list1[4])\n",
    "    \n",
    "except IndexError:\n",
    "    print(\"wrong Index\")"
   ]
  },
  {
   "cell_type": "code",
   "execution_count": 23,
   "id": "3f77b827-a7ca-4c1a-bed1-4465f534659c",
   "metadata": {},
   "outputs": [
    {
     "name": "stdout",
     "output_type": "stream",
     "text": [
      "Data type mismatch\n"
     ]
    }
   ],
   "source": [
    "try:\n",
    "    x = \"10\"\n",
    "    y = 20\n",
    "    z =  x + y\n",
    "    print(z)\n",
    "    \n",
    "except TypeError:\n",
    "    print(\"Data type mismatch\")"
   ]
  },
  {
   "cell_type": "code",
   "execution_count": 28,
   "id": "820c4234-4367-4d22-8a89-2a71aaa6f823",
   "metadata": {},
   "outputs": [
    {
     "name": "stdout",
     "output_type": "stream",
     "text": [
      "Key not found\n"
     ]
    }
   ],
   "source": [
    "try:\n",
    "    my_dictionary = {\"name\": \"Alice\", \"age\": \"23\"}\n",
    "    print(my_dictionary[\"city\"])\n",
    "\n",
    "except KeyError:\n",
    "    print(\"Key not found\")\n",
    "\n",
    "\n",
    "                     "
   ]
  },
  {
   "cell_type": "code",
   "execution_count": 38,
   "id": "1a907a87-4c2a-4f89-970f-dce0f06f9f03",
   "metadata": {},
   "outputs": [
    {
     "name": "stdout",
     "output_type": "stream",
     "text": [
      "unable to write to this file 'file123.txt'.\n"
     ]
    }
   ],
   "source": [
    "try:\n",
    "    file_location = \"file123.txt\"\n",
    "    \n",
    "    with open(file_location, \"w\") as file:\n",
    "         contents = file.read()\n",
    "        \n",
    "except IOError:\n",
    "    print(f\"unable to write to this file '{file_location}'.\") "
   ]
  },
  {
   "cell_type": "code",
   "execution_count": 40,
   "id": "4d233b1f-b95b-42a9-8305-6c7ba974ba85",
   "metadata": {},
   "outputs": [
    {
     "name": "stdout",
     "output_type": "stream",
     "text": [
      "Particular Library missing\n"
     ]
    }
   ],
   "source": [
    "try:\n",
    "    import library12345\n",
    "    \n",
    "except ImportError:\n",
    "    print(\"Particular Library missing\")"
   ]
  },
  {
   "cell_type": "code",
   "execution_count": 41,
   "id": "6b0818ef-60aa-4352-ba6d-a519b65ffeda",
   "metadata": {},
   "outputs": [
    {
     "name": "stdout",
     "output_type": "stream",
     "text": [
      "something is missing\n"
     ]
    }
   ],
   "source": [
    "try:\n",
    "    import library12345\n",
    "    \n",
    "except ImportError:\n",
    "    print(\"something is missing\")"
   ]
  },
  {
   "cell_type": "code",
   "execution_count": 1,
   "id": "ccbdb775-a57f-4fc8-9ae6-bd9978ef9ec7",
   "metadata": {},
   "outputs": [
    {
     "ename": "NameError",
     "evalue": "name 'result' is not defined",
     "output_type": "error",
     "traceback": [
      "\u001b[0;31m---------------------------------------------------------------------------\u001b[0m",
      "\u001b[0;31mNameError\u001b[0m                                 Traceback (most recent call last)",
      "Cell \u001b[0;32mIn [1], line 7\u001b[0m\n\u001b[1;32m      5\u001b[0m     \u001b[38;5;28mprint\u001b[39m(\u001b[38;5;124m\"\u001b[39m\u001b[38;5;124mInsufficient memory for the list\u001b[39m\u001b[38;5;124m\"\u001b[39m)\n\u001b[1;32m      6\u001b[0m \u001b[38;5;28;01melse\u001b[39;00m:\n\u001b[0;32m----> 7\u001b[0m     \u001b[38;5;28mprint\u001b[39m(\u001b[43mresult\u001b[49m)\n",
      "\u001b[0;31mNameError\u001b[0m: name 'result' is not defined"
     ]
    }
   ],
   "source": [
    "try:\n",
    "    big_list = [1] * (10 ** 6)\n",
    "    \n",
    "except MomoryError:\n",
    "    print(\"Insufficient memory for the list\")\n",
    "else:\n",
    "    print(result)"
   ]
  },
  {
   "cell_type": "code",
   "execution_count": null,
   "id": "e366c003-2730-4267-84d4-14ba328a1ce4",
   "metadata": {},
   "outputs": [],
   "source": []
  }
 ],
 "metadata": {
  "kernelspec": {
   "display_name": "Python 3 (ipykernel)",
   "language": "python",
   "name": "python3"
  },
  "language_info": {
   "codemirror_mode": {
    "name": "ipython",
    "version": 3
   },
   "file_extension": ".py",
   "mimetype": "text/x-python",
   "name": "python",
   "nbconvert_exporter": "python",
   "pygments_lexer": "ipython3",
   "version": "3.10.6"
  }
 },
 "nbformat": 4,
 "nbformat_minor": 5
}
